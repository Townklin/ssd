{
 "cells": [
  {
   "cell_type": "code",
   "execution_count": 1,
   "metadata": {
    "collapsed": true
   },
   "outputs": [],
   "source": [
    "import os\n",
    "import xml.etree.ElementTree as ET\n",
    "\n",
    "#程序功能：批量修改VOC数据集中xml标签文件的标签名称\n",
    "def changelabelname(inputpath,imgpath):\n",
    "    listdir = os.listdir(inputpath)\n",
    "    for file in listdir:\n",
    "        if file.endswith('xml'):\n",
    "            file = os.path.join(inputpath,file)\n",
    "            tree = ET.parse(file)\n",
    "            root = tree.getroot()\n",
    "            #修改图像所在路径的值\n",
    "            path = root.findall('path')\n",
    "            path.text = imgpath\n",
    "            #修改object标签中对象名称的值\n",
    "            for object1 in root.findall('object'):\n",
    "                for sku in object1.findall('name'):           #查找需要修改的名称\n",
    "                    if (sku.text == '漂浮垃圾'):               #‘preName’为修改前的名称\n",
    "                        sku.text = 'floating-garbage'                 #‘TESTNAME’为修改后的名称\n",
    "                        tree.write(file,encoding='utf-8')     #写进原始的xml文件并避免原始xml中文字符乱码\n",
    "                    else:\n",
    "                        pass\n",
    "        else:\n",
    "            pass\n",
    "\n",
    "if __name__ == '__main__':\n",
    "#     inputpath = 'E:/Research/Dataset/Test/Annotations'  #此处替换为自己的路径\n",
    "    inputpath = 'H:\\Anaconda3_Project\\SSD-TF\\VOC2007\\Annotations'\n",
    "    imgpath = './JPEGImages'\n",
    "    changelabelname(inputpath,imgpath)"
   ]
  },
  {
   "cell_type": "markdown",
   "metadata": {},
   "source": [
    "划分训练集、验证集和测试集的方法"
   ]
  },
  {
   "cell_type": "code",
   "execution_count": 2,
   "metadata": {
    "collapsed": true
   },
   "outputs": [],
   "source": [
    "import os\n",
    "import random\n",
    "\n",
    "trainval_percent = 0.66\n",
    "train_percent = 0.5\n",
    "xmlfilepath = 'VOC2007/Annotations'\n",
    "txtsavepath = 'VOC2007/ImageSets/Main'\n",
    "total_xml = os.listdir(xmlfilepath)\n",
    "\n",
    "num=len(total_xml)\n",
    "list=range(num)\n",
    "tv=int(num*trainval_percent)\n",
    "tr=int(tv*train_percent)\n",
    "trainval= random.sample(list,tv)\n",
    "train=random.sample(trainval,tr)\n",
    "\n",
    "ftrainval = open('VOC2007/ImageSets/Main/trainval.txt', 'w')\n",
    "ftest = open('VOC2007/ImageSets/Main/test.txt', 'w')\n",
    "ftrain = open('VOC2007/ImageSets/Main/train.txt', 'w')\n",
    "fval = open('VOC2007/ImageSets/Main/val.txt', 'w')\n",
    "\n",
    "for i  in list:\n",
    "    name=total_xml[i][:-4]+'\\n'\n",
    "    if i in trainval:\n",
    "        ftrainval.write(name)\n",
    "        if i in train:\n",
    "            ftrain.write(name)\n",
    "        else:\n",
    "            fval.write(name)\n",
    "    else:\n",
    "        ftest.write(name)\n",
    "\n",
    "ftrainval.close()\n",
    "ftrain.close()\n",
    "fval.close()\n",
    "ftest .close()"
   ]
  },
  {
   "cell_type": "code",
   "execution_count": null,
   "metadata": {
    "collapsed": true
   },
   "outputs": [],
   "source": []
  }
 ],
 "metadata": {
  "kernelspec": {
   "display_name": "Python 3",
   "language": "python",
   "name": "python3"
  },
  "language_info": {
   "codemirror_mode": {
    "name": "ipython",
    "version": 3
   },
   "file_extension": ".py",
   "mimetype": "text/x-python",
   "name": "python",
   "nbconvert_exporter": "python",
   "pygments_lexer": "ipython3",
   "version": "3.6.2"
  }
 },
 "nbformat": 4,
 "nbformat_minor": 2
}
